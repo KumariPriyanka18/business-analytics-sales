
{
 "cells": [
  {
   "cell_type": "markdown",
   "metadata": {},
   "source": ["# Sales Data Analysis\n",
              "Business Analytics project using Python to uncover sales insights."]
  },
  {
   "cell_type": "code",
   "execution_count": null,
   "metadata": {},
   "outputs": [],
   "source": [
    "import pandas as pd\n",
    "import matplotlib.pyplot as plt\n",
    "import seaborn as sns\n",
    "\n",
    "# Load dataset\n",
    "df = pd.read_csv('../data/sales_data.csv', parse_dates=['Order Date'])\n",
    "df['Month'] = df['Order Date'].dt.to_period('M')\n",
    "\n",
    "# Monthly sales trend\n",
    "monthly_sales = df.groupby('Month')['Sales'].sum().reset_index()\n",
    "monthly_sales['Month'] = monthly_sales['Month'].astype(str)\n",
    "\n",
    "# Plot\n",
    "plt.figure(figsize=(12,6))\n",
    "sns.lineplot(data=monthly_sales, x='Month', y='Sales', marker='o')\n",
    "plt.xticks(rotation=45)\n",
    "plt.title('Monthly Sales Trend')\n",
    "plt.tight_layout()\n",
    "plt.savefig('../visuals/sales_trends.png')\n",
    "plt.show()"
   ]
  }
 ],
 "metadata": {
  "kernelspec": {
   "display_name": "Python 3",
   "language": "python",
   "name": "python3"
  },
  "language_info": {
   "name": "python",
   "version": "3.8"
  }
 },
 "nbformat": 4,
 "nbformat_minor": 5
}
